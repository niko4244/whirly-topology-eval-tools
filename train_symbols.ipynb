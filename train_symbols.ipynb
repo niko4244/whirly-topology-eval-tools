# Synthetic Circuit Symbol Detection Training Notebook

# Install requirements
!pip install ultralytics opencv-python matplotlib numpy pillow tqdm

import os, cv2, numpy as np, matplotlib.pyplot as plt
from PIL import Image, ImageDraw, ImageFont
from ultralytics import YOLO
from tqdm import tqdm

# --- Synthetic Data Generation ---
def draw_resistor(draw, x, y, w=60, h=10):
    draw.rectangle([x, y-h//2, x+w, y+h//2], outline="black", width=2)
    draw.line([x, y, x-15, y], fill="black", width=2)
    draw.line([x+w, y, x+w+15, y], fill="black", width=2)
    return [x-15, y-h//2, x+w+15, y+h//2]

def draw_capacitor(draw, x, y, w=30, h=30):
    draw.line([x, y-h//2, x, y+h//2], fill="black", width=2)
    draw.line([x+w, y-h//2, x+w, y+h//2], fill="black", width=2)
    draw.line([x-15, y, x, y], fill="black", width=2)
    draw.line([x+w, y, x+w+15, y], fill="black", width=2)
    return [x-15, y-h//2, x+w+15, y+h//2]

def create_circuit_img():
    img = Image.new("RGB", (320, 240), "white")
    draw = ImageDraw.Draw(img)
    annots = []
    # Place 1 resistor, 1 capacitor randomly
    rx, ry = np.random.randint(40, 220), np.random.randint(30, 190)
    bbox_r = draw_resistor(draw, rx, ry)
    annots.append(("resistor", bbox_r))
    cx, cy = np.random.randint(40, 220), np.random.randint(30, 190)
    bbox_c = draw_capacitor(draw, cx, cy)
    annots.append(("capacitor", bbox_c))
    # Connect with wire
    draw.line([rx-15, ry, cx-15, cy], fill="black", width=2)
    draw.line([rx+75, ry, cx+45, cy], fill="black", width=2)
    return img, annots

# Generate dataset
os.makedirs("data/images", exist_ok=True)
os.makedirs("data/labels", exist_ok=True)
label_map = {"resistor":0, "capacitor":1}

def bbox_xyxy_to_yolo(bbox, img_w, img_h):
    x1, y1, x2, y2 = bbox
    xc = (x1+x2)/2/img_w
    yc = (y1+y2)/2/img_h
    w = (x2-x1)/img_w
    h = (y2-y1)/img_h
    return xc, yc, w, h

# 100 train, 10 val
for i in tqdm(range(110)):
    img, annots = create_circuit_img()
    img.save(f"data/images/{i:04d}.jpg")
    img_w, img_h = img.size
    lines = []
    for cname, bbox in annots:
        xc, yc, w, h = bbox_xyxy_to_yolo(bbox, img_w, img_h)
        lines.append(f"{label_map[cname]} {xc:.4f} {yc:.4f} {w:.4f} {h:.4f}")
    with open(f"data/labels/{i:04d}.txt", "w") as f:
        f.write("\n".join(lines))

# Split train/val
os.makedirs("data/train/images", exist_ok=True)
os.makedirs("data/train/labels", exist_ok=True)
os.makedirs("data/val/images", exist_ok=True)
os.makedirs("data/val/labels", exist_ok=True)
for i in range(100):
    os.rename(f"data/images/{i:04d}.jpg", f"data/train/images/{i:04d}.jpg")
    os.rename(f"data/labels/{i:04d}.txt", f"data/train/labels/{i:04d}.txt")
for i in range(100,110):
    os.rename(f"data/images/{i:04d}.jpg", f"data/val/images/{i:04d}.jpg")
    os.rename(f"data/labels/{i:04d}.txt", f"data/val/labels/{i:04d}.txt")

# --- YOLOv8 Training ---
# Create dataset YAML
with open("data/circuit.yaml", "w") as f:
    f.write("""
path: ../data
train: train/images
val: val/images
names:
  0: resistor
  1: capacitor
""")

# Train YOLOv8n (small, fast)
model = YOLO("yolov8n.pt")
results = model.train(data="data/circuit.yaml", epochs=20, imgsz=320, batch=8)

# --- Evaluation ---
metrics = model.val(data="data/circuit.yaml")
print("Validation results:", metrics.results_dict)

# --- Inference example ---
img_path = "data/val/images/0109.jpg"
result = model(img_path)
result.show() # Shows image with detections
print(result[0].boxes)